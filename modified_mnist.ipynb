{
 "cells": [
  {
   "cell_type": "code",
   "execution_count": 54,
   "metadata": {
    "collapsed": true
   },
   "outputs": [],
   "source": [
    "from sklearn.datasets import fetch_mldata"
   ]
  },
  {
   "cell_type": "code",
   "execution_count": 55,
   "metadata": {
    "collapsed": true
   },
   "outputs": [],
   "source": [
    "from sklearn.model_selection import train_test_split\n",
    "from sklearn.neighbors import KNeighborsClassifier\n",
    "from sklearn import metrics\n",
    "from sklearn.decomposition import PCA\n",
    "from sklearn import svm\n",
    "from sklearn.ensemble import RandomForestClassifier"
   ]
  },
  {
   "cell_type": "code",
   "execution_count": 86,
   "metadata": {},
   "outputs": [
    {
     "data": {
      "text/plain": [
       "dict_keys(['DESCR', 'COL_NAMES', 'target', 'data'])"
      ]
     },
     "execution_count": 86,
     "metadata": {},
     "output_type": "execute_result"
    }
   ],
   "source": [
    "### Loading original mnist dataset from sklearn\n",
    "mnist = fetch_mldata(\"MNIST original\")\n",
    "mnist.keys()"
   ]
  },
  {
   "cell_type": "code",
   "execution_count": null,
   "metadata": {
    "collapsed": true
   },
   "outputs": [],
   "source": []
  },
  {
   "cell_type": "code",
   "execution_count": 57,
   "metadata": {
    "collapsed": true
   },
   "outputs": [],
   "source": [
    "## loading the data\n",
    "x = mnist.data"
   ]
  },
  {
   "cell_type": "code",
   "execution_count": 87,
   "metadata": {},
   "outputs": [
    {
     "data": {
      "text/plain": [
       "array([[0, 0, 0, ..., 0, 0, 0],\n",
       "       [0, 0, 0, ..., 0, 0, 0],\n",
       "       [0, 0, 0, ..., 0, 0, 0],\n",
       "       ..., \n",
       "       [0, 0, 0, ..., 0, 0, 0],\n",
       "       [0, 0, 0, ..., 0, 0, 0],\n",
       "       [0, 0, 0, ..., 0, 0, 0]], dtype=uint8)"
      ]
     },
     "execution_count": 87,
     "metadata": {},
     "output_type": "execute_result"
    }
   ],
   "source": [
    "x"
   ]
  },
  {
   "cell_type": "code",
   "execution_count": 88,
   "metadata": {},
   "outputs": [
    {
     "name": "stdout",
     "output_type": "stream",
     "text": [
      "[0 0 0 ..., 9 9 9]\n"
     ]
    }
   ],
   "source": [
    "## loading the target\n",
    "y = mnist.target\n",
    "y = y.astype(int)\n",
    "x.shape\n",
    "print (y)"
   ]
  },
  {
   "cell_type": "code",
   "execution_count": 83,
   "metadata": {},
   "outputs": [],
   "source": [
    "### Choosing every 10 element from the data and storing it in X and Y\n",
    "import numpy as np\n",
    "X = x[::10,:]\n",
    "Y = y[::10] "
   ]
  },
  {
   "cell_type": "code",
   "execution_count": 80,
   "metadata": {},
   "outputs": [
    {
     "data": {
      "text/plain": [
       "((7000, 20), (7000,))"
      ]
     },
     "execution_count": 80,
     "metadata": {},
     "output_type": "execute_result"
    }
   ],
   "source": [
    "## Applying PCA \n",
    "pca = PCA(n_components=0.80)\n",
    "pca.fit(X)\n",
    "X = pca.transform(X)\n",
    "X.shape, Y.shape"
   ]
  },
  {
   "cell_type": "code",
   "execution_count": 61,
   "metadata": {},
   "outputs": [
    {
     "name": "stdout",
     "output_type": "stream",
     "text": [
      " KNN model accuracy(in %): 94.143\n",
      " KNN model accuracy(in %): 93.857\n",
      " KNN model accuracy(in %): 94.571\n",
      " KNN model accuracy(in %): 93.571\n",
      " KNN model accuracy(in %): 94.429\n",
      " KNN model accuracy(in %): 94.0\n",
      " KNN model accuracy(in %): 93.857\n",
      " KNN model accuracy(in %): 94.071\n",
      " KNN model accuracy(in %): 93.786\n",
      " KNN model accuracy(in %): 93.286\n",
      "averaged accuracy 93.957\n"
     ]
    }
   ],
   "source": [
    "## after every epoch storing the accuracy \n",
    "results = []\n",
    "for epoch in range(10):\n",
    "    for j in range(2):\n",
    "        x_tr,x_ts,y_tr,y_ts=train_test_split(X,Y,test_size=0.2)\n",
    "        n = KNeighborsClassifier(n_neighbors=8)\n",
    "        n.fit(x_tr, y_tr)\n",
    "        y_pred = n.predict(x_ts) # test accuracy because predicting using xtest if you want to calculate train accuracy then predict using xtrain\n",
    "    results.append(metrics.accuracy_score(y_ts, y_pred)*100)\n",
    "    print(\" KNN model accuracy(in %):\", round(metrics.accuracy_score(y_ts, y_pred)*100, 3))\n",
    "print(\"averaged accuracy\",round(sum(results)/len(results),3))"
   ]
  },
  {
   "cell_type": "code",
   "execution_count": 62,
   "metadata": {},
   "outputs": [
    {
     "data": {
      "image/png": "[encoded data removed]",
      "text/plain": [
       "<matplotlib.figure.Figure at 0x23b5aa426d8>"
      ]
     },
     "metadata": {},
     "output_type": "display_data"
    }
   ],
   "source": [
    "### Plotting the epoch vs accuracy\n",
    "import matplotlib.pyplot as plt\n",
    "plt.plot(results)\n",
    "plt.xlabel(\"epoch\")\n",
    "plt.ylabel(\"accuracy\")\n",
    "plt.show()"
   ]
  },
  {
   "cell_type": "code",
   "execution_count": 70,
   "metadata": {},
   "outputs": [
    {
     "name": "stdout",
     "output_type": "stream",
     "text": [
      " random forest accuracy(in %): 85.571\n",
      " random forest accuracy(in %): 86.929\n",
      " random forest accuracy(in %): 86.357\n",
      " random forest accuracy(in %): 84.714\n",
      " random forest accuracy(in %): 86.357\n",
      " random forest accuracy(in %): 85.571\n",
      " random forest accuracy(in %): 84.714\n",
      " random forest accuracy(in %): 83.571\n",
      " random forest accuracy(in %): 86.357\n",
      " random forest accuracy(in %): 85.5\n",
      "averaged accuracy 85.564\n"
     ]
    }
   ],
   "source": [
    "### Applying Randomforest\n",
    "results = []\n",
    "for epoch in range(10):\n",
    "    for j in range(2):\n",
    "        x_tr,x_ts,y_tr,y_ts=train_test_split(X,Y,test_size=0.2)\n",
    "        r = RandomForestClassifier(n_jobs=2, random_state=0)\n",
    "        r.fit(x_tr, y_tr)\n",
    "        y_pred = r.predict(x_ts)\n",
    "    results.append(metrics.accuracy_score(y_ts, y_pred)*100)\n",
    "    print(\" random forest accuracy(in %):\", round(metrics.accuracy_score(y_ts, y_pred)*100, 3))\n",
    "print(\"averaged accuracy\",round(sum(results)/len(results),3))"
   ]
  },
  {
   "cell_type": "code",
   "execution_count": 75,
   "metadata": {},
   "outputs": [
    {
     "data": {
      "image/png": "[encoded data removed]",
      "text/plain": [
       "<matplotlib.figure.Figure at 0x23b5a4f8eb8>"
      ]
     },
     "metadata": {},
     "output_type": "display_data"
    }
   ],
   "source": [
    "import matplotlib.pyplot as plt\n",
    "plt.plot(results)\n",
    "plt.xlabel(\"epoch\")\n",
    "plt.ylabel(\"accuracy\")\n",
    "plt.show()"
   ]
  },
  {
   "cell_type": "code",
   "execution_count": 72,
   "metadata": {},
   "outputs": [
    {
     "name": "stdout",
     "output_type": "stream",
     "text": [
      " svm accuracy(in %): 95.714\n",
      " svm accuracy(in %): 95.714\n",
      " svm accuracy(in %): 95.429\n",
      " svm accuracy(in %): 96.429\n",
      " svm accuracy(in %): 95.071\n",
      " svm accuracy(in %): 96.0\n",
      " svm accuracy(in %): 95.929\n",
      " svm accuracy(in %): 95.643\n",
      " svm accuracy(in %): 95.786\n",
      " svm accuracy(in %): 95.714\n",
      "averaged accuracy 95.743\n"
     ]
    }
   ],
   "source": [
    "results = []\n",
    "for epoch in range(10):\n",
    "    for j in range(2):\n",
    "        x_tr,x_ts,y_tr,y_ts=train_test_split(X,Y,test_size=0.2)\n",
    "        svc = svm.SVC(kernel='poly', C=1)\n",
    "        svc.fit(x_tr, y_tr)\n",
    "        y_pred = svc.predict(x_ts)\n",
    "    results.append(metrics.accuracy_score(y_ts, y_pred)*100)\n",
    "    print(\" svm accuracy(in %):\", round(metrics.accuracy_score(y_ts, y_pred)*100, 3))\n",
    "print(\"averaged accuracy\",round(sum(results)/len(results),3))"
   ]
  },
  {
   "cell_type": "code",
   "execution_count": 73,
   "metadata": {},
   "outputs": [
    {
     "data": {
      "image/png": "[encoded data removed]",
      "text/plain": [
       "<matplotlib.figure.Figure at 0x23b5bfe3390>"
      ]
     },
     "metadata": {},
     "output_type": "display_data"
    }
   ],
   "source": [
    "import matplotlib.pyplot as plt\n",
    "plt.plot(results)\n",
    "plt.xlabel(\"epoch\")\n",
    "plt.ylabel(\"accuracy\")\n",
    "plt.show()"
   ]
  },
  {
   "cell_type": "code",
   "execution_count": null,
   "metadata": {
    "collapsed": true
   },
   "outputs": [],
   "source": []
  }
 ],
 "metadata": {
  "kernelspec": {
   "display_name": "Python 3",
   "language": "python",
   "name": "python3"
  },
  "language_info": {
   "codemirror_mode": {
    "name": "ipython",
    "version": 3
   },
   "file_extension": ".py",
   "mimetype": "text/x-python",
   "name": "python",
   "nbconvert_exporter": "python",
   "pygments_lexer": "ipython3",
   "version": "3.6.3"
  }
 },
 "nbformat": 4,
 "nbformat_minor": 2
}
